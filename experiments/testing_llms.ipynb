{
 "cells": [
  {
   "cell_type": "code",
   "execution_count": 3,
   "id": "7c78221d-e5a4-4c03-a259-1fbb20ab1481",
   "metadata": {},
   "outputs": [
    {
     "name": "stdout",
     "output_type": "stream",
     "text": [
      "The highest mountain in the world is Mount Everest. It is located in the Himalayas on the border of Nepal and Tibet, with a peak at approximately 8,848.86 meters (29,031.7 feet) above sea level.\n"
     ]
    }
   ],
   "source": [
    "import os\n",
    "import json\n",
    "from mistralai import Mistral\n",
    "\n",
    "secrets = json.load(open(\"../secrets.json\"))\n",
    "api_key = secrets[\"mistral_api_key\"]\n",
    "model = \"mistral-large-latest\"\n",
    "\n",
    "client = Mistral(api_key=api_key)\n",
    "\n",
    "messages = [\n",
    "    {\"role\": \"system\", \"content\": \"You are a helpful assistant.\"},\n",
    "    {\"role\": \"user\", \"content\": \"What is the capital of France?\"},\n",
    "    {\"role\": \"assistant\", \"content\": \"The capital of France is Paris.\"},\n",
    "    {\"role\": \"user\", \"content\": \"What is the highest mountain in the world?\"}\n",
    "]\n",
    "\n",
    "chat_response = client.chat.complete(\n",
    "    model = model,\n",
    "    messages = messages\n",
    ")\n",
    "\n",
    "print(chat_response.choices[0].message.content)"
   ]
  },
  {
   "cell_type": "code",
   "execution_count": 4,
   "id": "c2daa97f-2a3f-475f-9749-c4de581a964b",
   "metadata": {},
   "outputs": [
    {
     "data": {
      "text/plain": [
       "ChatCompletionResponse(id='a988222255eb4172ad7063cc0b67d38f', object='chat.completion', model='mistral-large-latest', usage=UsageInfo(prompt_tokens=37, completion_tokens=59, total_tokens=96), created=1740964767, choices=[ChatCompletionChoice(index=0, message=AssistantMessage(content='The highest mountain in the world is Mount Everest. It is located in the Himalayas on the border of Nepal and Tibet, with a peak at approximately 8,848.86 meters (29,031.7 feet) above sea level.', tool_calls=None, prefix=False, role='assistant'), finish_reason='stop')])"
      ]
     },
     "execution_count": 4,
     "metadata": {},
     "output_type": "execute_result"
    }
   ],
   "source": [
    "chat_response"
   ]
  },
  {
   "cell_type": "code",
   "execution_count": null,
   "id": "4caaccbe-e3a7-411c-b456-ef055dcf8446",
   "metadata": {},
   "outputs": [],
   "source": []
  },
  {
   "cell_type": "code",
   "execution_count": 1,
   "id": "b4dff79e-3cf3-4816-83ad-a63fccda977e",
   "metadata": {},
   "outputs": [],
   "source": [
    "# from huggingface_hub import InferenceClient\n",
    "\n",
    "# model_endpoint_url = \"https://api-inference.huggingface.co/models/meta-llama/Llama-3.2-3B-Instruct\"\n",
    "# client = InferenceClient()\n",
    "\n",
    "# # Format messages as a list of dictionaries\n",
    "# messages = [\n",
    "#     {\"role\": \"system\", \"content\": \"You are a helpful assistant.\"},\n",
    "#     {\"role\": \"user\", \"content\": \"What is the capital of France?\"},\n",
    "#     {\"role\": \"assistant\", \"content\": \"The capital of France is Paris.\"},\n",
    "#     {\"role\": \"user\", \"content\": \"What is the highest mountain in the world?\"}\n",
    "# ]\n",
    "\n",
    "# # Call the model with the messages\n",
    "# response = client.chat_completion(model=\"google/gemma-7b\",\n",
    "#                                   messages=messages)\n",
    "\n",
    "# # Print the response\n",
    "# print(response)\n"
   ]
  },
  {
   "cell_type": "code",
   "execution_count": null,
   "id": "d2363c9c-357d-4a5c-a57b-de66bcc48290",
   "metadata": {},
   "outputs": [],
   "source": []
  }
 ],
 "metadata": {
  "kernelspec": {
   "display_name": ".venv",
   "language": "python",
   "name": "python3"
  },
  "language_info": {
   "codemirror_mode": {
    "name": "ipython",
    "version": 3
   },
   "file_extension": ".py",
   "mimetype": "text/x-python",
   "name": "python",
   "nbconvert_exporter": "python",
   "pygments_lexer": "ipython3",
   "version": "3.13.2"
  }
 },
 "nbformat": 4,
 "nbformat_minor": 5
}
