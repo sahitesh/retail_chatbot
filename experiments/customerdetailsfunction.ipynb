{
 "cells": [
  {
   "cell_type": "code",
   "execution_count": 7,
   "id": "4a30d286-e32b-4743-a633-e4dbd6b68dc4",
   "metadata": {},
   "outputs": [
    {
     "name": "stdout",
     "output_type": "stream",
     "text": [
      "Customer details saved to CUST001_details.json\n"
     ]
    }
   ],
   "source": [
    "import pandas as pd\n",
    "import json\n",
    "\n",
    "# Load the customers.csv file into a DataFrame\n",
    "df_customers = pd.read_csv(r\"C:\\Users\\supri\\OneDrive\\Desktop\\LLM project\\retail_chatbot\\data\\customers.csv\")\n",
    "\n",
    "# Function to get customer details\n",
    "def get_customer_details(customer_id):\n",
    "    # Filter the customer details by customer_id\n",
    "    customer_details = df_customers[df_customers['customer_id'] == customer_id].iloc[0]\n",
    "    \n",
    "    # Create a dictionary of customer details\n",
    "    customer_data = {\n",
    "        \"name\": customer_details['name'],\n",
    "        \"email\": customer_details['email'],\n",
    "        \"phone\": customer_details['phone'],\n",
    "        \"location\": customer_details['location'],\n",
    "        \"subscription_plan\": customer_details['subscription_plan'],\n",
    "        \"registration_date\": customer_details['registration_date'],\n",
    "        \"subscription_start_date\": customer_details['subscription_start_date'] if pd.notnull(customer_details['subscription_start_date']) else None,\n",
    "        \"subscription_end_date\": customer_details['subscription_end_date'] if pd.notnull(customer_details['subscription_end_date']) else None\n",
    "    }\n",
    "    \n",
    "    # Save the customer details to a JSON file\n",
    "    file_name = f\"{customer_id}_details.json\"\n",
    "    with open(file_name, \"w\") as json_file:\n",
    "        json.dump(customer_data, json_file, indent=4)\n",
    "    \n",
    "    return file_name\n",
    "\n",
    "# Example usage:\n",
    "customer_id = \"CUST001\"  # Replace with a valid customer ID from your customers.csv\n",
    "json_file = get_customer_details(customer_id)\n",
    "print(f\"Customer details saved to {json_file}\")\n"
   ]
  },
  {
   "cell_type": "code",
   "execution_count": 9,
   "id": "a1fb3f94-8ed5-4e55-be6d-b6b70bd383c4",
   "metadata": {},
   "outputs": [
    {
     "name": "stdout",
     "output_type": "stream",
     "text": [
      "Transaction details saved to TXN000001_details.json\n"
     ]
    }
   ],
   "source": [
    "import pandas as pd\n",
    "import json\n",
    "import re\n",
    "\n",
    "# Load the transactions.csv file into a DataFrame\n",
    "df_transactions = pd.read_csv(r\"C:\\Users\\supri\\OneDrive\\Desktop\\LLM project\\retail_chatbot\\data\\transactions.csv\")\n",
    "\n",
    "# Function to clean and parse 'products_in_order' field\n",
    "def clean_products_in_order(products_str):\n",
    "    # Replace `np.int64(`, `np.float64(` and remove trailing `)`\n",
    "    cleaned_str = re.sub(r\"np\\.int64\\(|np\\.float64\\(\", \"\", products_str)  # Remove numpy type references\n",
    "    cleaned_str = re.sub(r\"\\)\", \"\", cleaned_str)  # Remove closing brackets\n",
    "    return json.loads(cleaned_str.replace(\"'\", \"\\\"\"))  # Convert string to JSON format and parse\n",
    "\n",
    "# Function to get transaction details and save to JSON\n",
    "def get_transaction_details(transaction_id):\n",
    "    # Filter the transaction by transaction_id\n",
    "    transaction_details = df_transactions[df_transactions['transaction_id'] == transaction_id].iloc[0]\n",
    "\n",
    "    # Clean and parse the 'products_in_order' field\n",
    "    products_in_order = clean_products_in_order(transaction_details['products_in_order'])\n",
    "    \n",
    "    # Create a dictionary for transaction details\n",
    "    transaction_data = {\n",
    "        \"transaction_id\": transaction_details['transaction_id'],\n",
    "        \"customer_id\": transaction_details['customer_id'],\n",
    "        \"transaction_date\": transaction_details['transaction_date'],\n",
    "        \"products_in_order\": products_in_order,  # list of products\n",
    "        \"total_transaction_cost\": transaction_details['total_transaction_cost']\n",
    "    }\n",
    "    \n",
    "    # Save to JSON file\n",
    "    file_name = f\"{transaction_id}_details.json\"\n",
    "    with open(file_name, \"w\") as json_file:\n",
    "        json.dump(transaction_data, json_file, indent=4)\n",
    "\n",
    "    return file_name\n",
    "\n",
    "# Example usage:\n",
    "transaction_id = \"TXN000001\"  # Replace with a valid transaction ID from your transactions.csv\n",
    "json_file = get_transaction_details(transaction_id)\n",
    "print(f\"Transaction details saved to {json_file}\")"
   ]
  },
  {
   "cell_type": "code",
   "execution_count": null,
   "id": "0199bbdd-e40c-4fed-b003-ffa1f565e67f",
   "metadata": {},
   "outputs": [],
   "source": []
  }
 ],
 "metadata": {
  "kernelspec": {
   "display_name": "Python 3 (ipykernel)",
   "language": "python",
   "name": "python3"
  },
  "language_info": {
   "codemirror_mode": {
    "name": "ipython",
    "version": 3
   },
   "file_extension": ".py",
   "mimetype": "text/x-python",
   "name": "python",
   "nbconvert_exporter": "python",
   "pygments_lexer": "ipython3",
   "version": "3.13.2"
  }
 },
 "nbformat": 4,
 "nbformat_minor": 5
}
