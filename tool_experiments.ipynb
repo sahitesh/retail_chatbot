{
 "cells": [
  {
   "cell_type": "code",
   "execution_count": 1,
   "id": "e39a135f-a237-4abf-9ed4-5fc70615201c",
   "metadata": {},
   "outputs": [
    {
     "name": "stderr",
     "output_type": "stream",
     "text": [
      "C:\\Users\\supri\\OneDrive\\Desktop\\LLM project\\retail_chatbot\\tools.py:8: UserWarning: DataFrame columns are not unique, some columns will be omitted.\n",
      "  transaction_json = pd.read_csv(\"data/transactions.csv\").set_index('customer_id').T.to_dict()\n"
     ]
    }
   ],
   "source": [
    "# from tools import customer_details"
   ]
  },
  {
   "cell_type": "code",
   "execution_count": 14,
   "id": "c006ac30-14c1-40e2-b647-c2b6ab931dfe",
   "metadata": {},
   "outputs": [],
   "source": [
    "from langchain_core.utils.function_calling import convert_to_openai_tool\n",
    "from langchain_mistralai import ChatMistralAI"
   ]
  },
  {
   "cell_type": "code",
   "execution_count": 15,
   "id": "314b6e39-eb9b-4a17-82d4-c8f82259827e",
   "metadata": {},
   "outputs": [],
   "source": [
    "# convert_to_openai_tool(customer_details)"
   ]
  },
  {
   "cell_type": "code",
   "execution_count": 16,
   "id": "d5b87f94-b3e1-4bee-8bb9-d71440d393e1",
   "metadata": {},
   "outputs": [],
   "source": [
    "# {\n",
    "#         \"type\": \"function\",\n",
    "#         \"function\": {\n",
    "#             \"name\": \"retrieve_payment_status\",\n",
    "#             \"description\": \"Get payment status of a transaction\",\n",
    "#             \"parameters\": {\n",
    "#                 \"type\": \"object\",\n",
    "#                 \"properties\": {\n",
    "#                     \"transaction_id\": {\n",
    "#                         \"type\": \"string\",\n",
    "#                         \"description\": \"The transaction id.\",\n",
    "#                     }\n",
    "#                 },\n",
    "#                 \"required\": [\"transaction_id\"],\n",
    "#             },\n",
    "#         },\n",
    "#     }"
   ]
  },
  {
   "cell_type": "code",
   "execution_count": 17,
   "id": "86f63742-8e08-4aa9-9623-678d0e0d723a",
   "metadata": {},
   "outputs": [
    {
     "name": "stderr",
     "output_type": "stream",
     "text": [
      "Overriding of current TracerProvider is not allowed\n",
      "Attempting to instrument while already instrumented\n",
      "Attempting to instrument while already instrumented\n"
     ]
    },
    {
     "name": "stdout",
     "output_type": "stream",
     "text": [
      "OpenTelemetry Tracing Details\n",
      "|  Phoenix Project: Askit\n",
      "|  Span Processor: SimpleSpanProcessor\n",
      "|  Collector Endpoint: localhost:4317\n",
      "|  Transport: gRPC\n",
      "|  Transport Headers: {'user-agent': '****'}\n",
      "|  \n",
      "|  Using a default SpanProcessor. `add_span_processor` will overwrite this default.\n",
      "|  \n",
      "|  `register` has set this TracerProvider as the global OpenTelemetry default.\n",
      "|  To disable this behavior, call `register` with `set_global_tracer_provider=False`.\n",
      "\n"
     ]
    }
   ],
   "source": [
    "from phoenix.otel import register\n",
    "tracer_provider = register(\n",
    "  project_name=\"Askit\",  # Default is 'default'\n",
    "  auto_instrument=True  # Auto-instrument your app based on installed dependencies\n",
    ")"
   ]
  },
  {
   "cell_type": "code",
   "execution_count": 18,
   "id": "c6e261e2-cb54-4c81-8b20-028d7aa1156f",
   "metadata": {},
   "outputs": [],
   "source": [
    "from typing import Annotated\n",
    "\n",
    "from typing_extensions import TypedDict\n",
    "\n",
    "from langgraph.graph import StateGraph, START, END\n",
    "from langgraph.graph.message import add_messages\n",
    "from langchain_core.prompts import ChatPromptTemplate\n",
    "from system_prompts import ROUTER_SYSTEM_PROMPT, ANSWER_GENERATOR_PROMPT\n",
    "from tools import customer_details, all_transaction_details, general_inquiry, policy_documents, get_most_recent_transaction\n",
    "import random\n",
    "import json\n",
    "import os \n",
    "\n",
    "secrets = json.load(open(\"secrets.json\"))\n",
    "os.environ[\"MISTRAL_API_KEY\"] = secrets[\"mistral_api_key\"]\n",
    "\n",
    "class State(TypedDict):\n",
    "    # Messages have the type \"list\". The `add_messages` function\n",
    "    # in the annotation defines how this state key should be updated\n",
    "    # (in this case, it appends messages to the list, rather than overwriting them)\n",
    "    customer_id: str\n",
    "    messages: Annotated[list, add_messages]\n",
    "\n",
    "\n",
    "graph_builder = StateGraph(State)\n",
    "\n",
    "llm = ChatMistralAI(\n",
    "    model=\"mistral-large-latest\",\n",
    "    temperature=0,\n",
    "    max_retries=2,\n",
    "    max_tokens=150,\n",
    "    top_p=1,\n",
    "    frequency_penalty=0,\n",
    "    presence_penalty=0,\n",
    ")\n",
    "\n",
    "router_prompt = ChatPromptTemplate.from_messages(\n",
    "    [\n",
    "        (\"system\", ROUTER_SYSTEM_PROMPT),\n",
    "        (\"placeholder\", \"{msgs}\"),\n",
    "    ]\n",
    ")\n",
    "\n",
    "answer_generator_prompt = ChatPromptTemplate.from_messages(\n",
    "    [\n",
    "        (\"system\", ANSWER_GENERATOR_PROMPT),\n",
    "        (\"user\", \"{text}\"),\n",
    "    ]\n",
    ")\n",
    "\n",
    "router_llm = router_prompt | llm\n",
    "answer_generator = answer_generator_prompt | llm\n",
    "\n",
    "def router(state: State):\n",
    "    return {\"messages\": [router_llm.invoke({ \"msgs\":state[\"messages\"]})]}\n",
    "\n",
    "def generate_answer(state: State):\n",
    "    call_tool = state['messages'][-1].content\n",
    "    response = ''\n",
    "    if call_tool == 'customer_details':\n",
    "        response = customer_details(state['customer_id'])\n",
    "    if call_tool == 'all_transaction_details':\n",
    "        response = all_transaction_details(state['customer_id'])\n",
    "    if call_tool == 'general_inquiry':\n",
    "        response = general_inquiry(state['customer_id'])\n",
    "    if call_tool == 'policy_documents':\n",
    "        response = policy_documents(state['customer_id'])\n",
    "    if call_tool == 'get_most_recent_transaction':\n",
    "        response = get_most_recent_transaction(state['customer_id'])\n",
    "    return {\"messages\": [answer_generator.invoke({\"text\":state[\"messages\"][-2].content, \"additional_information\":response})]}\n",
    "    \n",
    "graph_builder.add_node(\"router\", router)\n",
    "graph_builder.add_node(\"generate_answer\", generate_answer)\n",
    "\n",
    "graph_builder.add_edge(START, \"router\")\n",
    "graph_builder.add_edge(\"router\", \"generate_answer\")\n",
    "graph_builder.add_edge(\"generate_answer\", END)\n",
    "graph = graph_builder.compile()\n",
    "\n"
   ]
  },
  {
   "cell_type": "code",
   "execution_count": 19,
   "id": "f9e39aa4-3cfe-4dc0-97e6-06ebd446799b",
   "metadata": {},
   "outputs": [],
   "source": [
    "def stream_graph_updates(user_input: str):\n",
    "    for event in graph.stream({\"messages\": [{\"role\": \"user\", \"content\": user_input}],\"customer_id\":\"CUST0{:02d}\".format(random.randint(1, 20))}):\n",
    "        for value in event.values():\n",
    "            print(\"Assistant:\", value[\"messages\"][-1].content)\n",
    "    return value[\"messages\"][-1].content"
   ]
  },
  {
   "cell_type": "code",
   "execution_count": 22,
   "id": "35b582ba-1ae4-456d-9c2c-7bf1f60b050f",
   "metadata": {},
   "outputs": [],
   "source": [
    "def graph_output(user_query, customer_id):\n",
    "    events = graph.stream({\"messages\": [{\"role\": \"user\", \"content\": user_query}],\"customer_id\":customer_id})\n",
    "    list_events = [x for x in events]\n",
    "    output = list_events[-1]['generate_answer']['messages'][-1].content\n",
    "    return output"
   ]
  },
  {
   "cell_type": "code",
   "execution_count": 25,
   "id": "99d2c2e4-5633-4078-85d4-8ac54768b1a7",
   "metadata": {},
   "outputs": [
    {
     "name": "stderr",
     "output_type": "stream",
     "text": [
      "Transient error StatusCode.UNAVAILABLE encountered while exporting traces to localhost:4317, retrying in 1s.\n"
     ]
    }
   ],
   "source": [
    "list_events = [x for x in events]"
   ]
  },
  {
   "cell_type": "code",
   "execution_count": 39,
   "id": "794ccb65-28b7-481b-9a04-6b9ebdd8f213",
   "metadata": {},
   "outputs": [
    {
     "data": {
      "text/plain": [
       "\"Your most recent transaction was on '2025-03-01' with the transaction ID 'TXN000125'. The total cost of this transaction was $13265.34.\""
      ]
     },
     "execution_count": 39,
     "metadata": {},
     "output_type": "execute_result"
    }
   ],
   "source": [
    "list_events[-1]['generate_answer']['messages'][-1].content"
   ]
  },
  {
   "cell_type": "code",
   "execution_count": null,
   "id": "ff403cae-6001-4734-8b8c-16a96211a5bd",
   "metadata": {},
   "outputs": [],
   "source": [
    "def get_output("
   ]
  },
  {
   "cell_type": "code",
   "execution_count": 20,
   "id": "7def9293-feb6-4217-a847-266748947dba",
   "metadata": {},
   "outputs": [
    {
     "name": "stderr",
     "output_type": "stream",
     "text": [
      "Transient error StatusCode.UNAVAILABLE encountered while exporting traces to localhost:4317, retrying in 1s.\n"
     ]
    },
    {
     "name": "stdout",
     "output_type": "stream",
     "text": [
      "Assistant: get_most_recent_transaction\n",
      "Assistant: Your most recent transaction (TXN000037) was on 2025-02-24. Here are the details:\n",
      "\n",
      "- **Smartphones Product 84021**: Quantity: 2, Total cost: $273.88\n",
      "- **Smartphones Product 41170**: Quantity: 4, Total cost: $3920.00\n",
      "- **Smartphones Product 80033**: Quantity: 1, Total cost: $474.91\n",
      "- **Furniture Product 81500**: Quantity: 5, Total cost: $7\n"
     ]
    }
   ],
   "source": [
    "stream_graph_updates(\"what is my most recent transaction\")"
   ]
  },
  {
   "cell_type": "code",
   "execution_count": 21,
   "id": "0d6d9bbd-b47e-40b1-ac42-e100efd70c44",
   "metadata": {},
   "outputs": [
    {
     "data": {
      "image/png": "[encoded data removed]",
      "text/plain": [
       "<IPython.core.display.Image object>"
      ]
     },
     "metadata": {},
     "output_type": "display_data"
    }
   ],
   "source": [
    "from IPython.display import Image, display\n",
    "\n",
    "try:\n",
    "    display(Image(graph.get_graph().draw_mermaid_png()))\n",
    "except Exception:\n",
    "    # This requires some extra dependencies and is optional\n",
    "    pass"
   ]
  },
  {
   "cell_type": "code",
   "execution_count": null,
   "id": "2d165d75-a1e5-4444-b6b6-5c4fdcc62e44",
   "metadata": {},
   "outputs": [],
   "source": []
  }
 ],
 "metadata": {
  "kernelspec": {
   "display_name": "Python 3 (ipykernel)",
   "language": "python",
   "name": "python3"
  },
  "language_info": {
   "codemirror_mode": {
    "name": "ipython",
    "version": 3
   },
   "file_extension": ".py",
   "mimetype": "text/x-python",
   "name": "python",
   "nbconvert_exporter": "python",
   "pygments_lexer": "ipython3",
   "version": "3.13.2"
  }
 },
 "nbformat": 4,
 "nbformat_minor": 5
}
